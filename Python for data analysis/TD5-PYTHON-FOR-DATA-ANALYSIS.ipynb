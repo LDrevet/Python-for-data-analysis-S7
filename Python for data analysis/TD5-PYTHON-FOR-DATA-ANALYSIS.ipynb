{
 "cells": [
  {
   "cell_type": "markdown",
   "metadata": {
    "id": "mzuvqt5CnNXN"
   },
   "source": [
    "# Exercice 1 : from a list of lists to a dictionnary"
   ]
  },
  {
   "cell_type": "markdown",
   "metadata": {
    "id": "xXyBzrGJnNXP"
   },
   "source": [
    "Transform this:\n",
    "\n",
    "* liste = [[1, 2], [3,4], [5,6], [7,8]] \n",
    "\n",
    "into this:\n",
    "\n",
    "* OUTPUT: {1: 2, 3: 4, 5: 6, 7: 8}\n",
    "\n",
    "Using dict comprehension and dict constructor"
   ]
  },
  {
   "cell_type": "code",
   "execution_count": null,
   "metadata": {
    "id": "8fsGnC7YnNXQ"
   },
   "outputs": [],
   "source": [
    "liste = [[1, 2], [3,4], [5,6], [7,8]] "
   ]
  },
  {
   "cell_type": "code",
   "execution_count": null,
   "metadata": {
    "id": "Bc0IdYYxnNXb",
    "outputId": "f0b7a562-7ab2-49d0-f0e6-61a325540e5d"
   },
   "outputs": [
    {
     "data": {
      "text/plain": [
       "{1: 2, 3: 4, 5: 6, 7: 8}"
      ]
     },
     "execution_count": 163,
     "metadata": {
      "tags": []
     },
     "output_type": "execute_result"
    }
   ],
   "source": [
    "output = dict([[1, 2], [3,4], [5,6], [7,8]])\n",
    "output"
   ]
  },
  {
   "cell_type": "code",
   "execution_count": null,
   "metadata": {
    "id": "95pmH56TnNXk",
    "outputId": "a0f9428d-d320-4db8-af85-107ed8c5ec24"
   },
   "outputs": [
    {
     "data": {
      "text/plain": [
       "{1: 2, 3: 4, 5: 6, 7: 8}"
      ]
     },
     "execution_count": 164,
     "metadata": {
      "tags": []
     },
     "output_type": "execute_result"
    }
   ],
   "source": [
    "output = {a:b for a,b in liste}\n",
    "output"
   ]
  },
  {
   "cell_type": "markdown",
   "metadata": {
    "id": "CcemEhQinNXt"
   },
   "source": [
    "# Exercice 2 : Counting letter frequencies in a text."
   ]
  },
  {
   "cell_type": "markdown",
   "metadata": {
    "id": "4AQZNyyenNXu"
   },
   "source": [
    "1. You should count letter frequencies using these strategies:\n",
    "    \n",
    "using a simple Python dictionary\n",
    "\n",
    "using defaultdict (subclass of dict)\n",
    "\n",
    "using Counter (subclass of dict) defaultdict and Counter can be found in collections (i.e. from collections import defaultdict, Counter)\n",
    "\n",
    "2. Count word frequencies (store them in a Python dictionary)."
   ]
  },
  {
   "cell_type": "code",
   "execution_count": null,
   "metadata": {
    "id": "adkRcTy5nNXv"
   },
   "outputs": [],
   "source": [
    "text = \"\"\"Lorem ipsum dolor sit amet, consectetur adipiscing elit. Vestibulum sagittis neque turpis, in gravida erat tincidunt a. Maecenas lobortis rutrum arcu, in posuere dolor fermentum sed. Duis imperdiet laoreet nibh, a pretium lectus condimentum eget. Maecenas eu elit vitae nibh euismod lacinia et a tortor. Donec at egestas leo, eget molestie quam. Sed elementum scelerisque sapien, quis suscipit ex malesuada vel. Aenean non mollis erat, in tincidunt massa.\n",
    "\n",
    "Mauris semper, purus in dictum imperdiet, libero nunc bibendum ex, eget facilisis turpis lorem ac lorem. Sed bibendum scelerisque tortor vel dictum. Aliquam dignissim eget erat non mollis. Maecenas vehicula feugiat tortor, in vulputate ex molestie nec. Ut suscipit iaculis nulla, auctor elementum urna dapibus non. Fusce facilisis mollis tellus sit amet venenatis. Praesent metus enim, tincidunt posuere tellus et, placerat tincidunt justo.\n",
    "\n",
    "Nunc id gravida ipsum, id porttitor magna. Maecenas porttitor accumsan odio non mattis. Suspendisse ultrices eleifend tristique. Vivamus accumsan libero tortor, eu aliquam sapien iaculis sed. In congue quis mi sed condimentum. Ut est libero, condimentum sit amet sagittis eu, tincidunt sed risus. Suspendisse pharetra molestie rutrum. Cras bibendum, dui ac consectetur eleifend, leo leo laoreet nibh, eget tristique lorem enim a nisi.\n",
    "\n",
    "Duis a purus eu augue consectetur malesuada id nec ex. Pellentesque sed odio laoreet, imperdiet dui ut, sodales odio. Class aptent taciti sociosqu ad litora torquent per conubia nostra, per inceptos himenaeos. Donec interdum, tortor eu dapibus pharetra, libero nisi faucibus nisl, id malesuada felis diam id urna. Praesent est metus, gravida eu luctus vitae, egestas vel metus. Class aptent taciti sociosqu ad litora torquent per conubia nostra, per inceptos himenaeos. Cras suscipit malesuada dui, vitae faucibus libero mollis a. In posuere blandit augue, sed semper ante imperdiet sed. Cras egestas posuere augue at semper. Praesent fermentum nunc risus, vitae aliquet augue consectetur a. Fusce interdum orci nunc, non posuere ex venenatis id. Nam faucibus fringilla mollis. Nulla ac enim accumsan, accumsan risus sit amet, rutrum tellus. Praesent lacinia augue at pulvinar venenatis. Etiam nunc augue, suscipit a faucibus sed, sodales ut mauris.\n",
    "\n",
    "Quisque quis magna malesuada, ultricies leo eget, elementum est. Praesent enim purus, pretium a nisl quis, accumsan blandit sapien. Class aptent taciti sociosqu ad litora torquent per conubia nostra, per inceptos himenaeos. Mauris ultricies iaculis nunc, quis fringilla arcu bibendum ac. Integer eu sem eget dui tempor sagittis. Ut sit amet ipsum quis nisi porttitor pulvinar. Etiam suscipit, leo nec fringilla luctus, lacus est egestas augue, eget vestibulum augue diam non eros. Duis posuere ac magna eget ullamcorper.\n",
    "\"\"\""
   ]
  },
  {
   "cell_type": "code",
   "execution_count": null,
   "metadata": {
    "id": "wDM_VnhEnNX4",
    "outputId": "22f7fdf0-a584-433b-b166-0346a3977184"
   },
   "outputs": [
    {
     "data": {
      "text/plain": [
       "'lorem ipsum dolor sit amet, consectetur adipiscing elit. vestibulum sagittis neque turpis, in gravida erat tincidunt a. maecenas lobortis rutrum arcu, in posuere dolor fermentum sed. duis imperdiet laoreet nibh, a pretium lectus condimentum eget. maecenas eu elit vitae nibh euismod lacinia et a tortor. donec at egestas leo, eget molestie quam. sed elementum scelerisque sapien, quis suscipit ex malesuada vel. aenean non mollis erat, in tincidunt massa.  mauris semper, purus in dictum imperdiet, libero nunc bibendum ex, eget facilisis turpis lorem ac lorem. sed bibendum scelerisque tortor vel dictum. aliquam dignissim eget erat non mollis. maecenas vehicula feugiat tortor, in vulputate ex molestie nec. ut suscipit iaculis nulla, auctor elementum urna dapibus non. fusce facilisis mollis tellus sit amet venenatis. praesent metus enim, tincidunt posuere tellus et, placerat tincidunt justo.  nunc id gravida ipsum, id porttitor magna. maecenas porttitor accumsan odio non mattis. suspendisse ultrices eleifend tristique. vivamus accumsan libero tortor, eu aliquam sapien iaculis sed. in congue quis mi sed condimentum. ut est libero, condimentum sit amet sagittis eu, tincidunt sed risus. suspendisse pharetra molestie rutrum. cras bibendum, dui ac consectetur eleifend, leo leo laoreet nibh, eget tristique lorem enim a nisi.  duis a purus eu augue consectetur malesuada id nec ex. pellentesque sed odio laoreet, imperdiet dui ut, sodales odio. class aptent taciti sociosqu ad litora torquent per conubia nostra, per inceptos himenaeos. donec interdum, tortor eu dapibus pharetra, libero nisi faucibus nisl, id malesuada felis diam id urna. praesent est metus, gravida eu luctus vitae, egestas vel metus. class aptent taciti sociosqu ad litora torquent per conubia nostra, per inceptos himenaeos. cras suscipit malesuada dui, vitae faucibus libero mollis a. in posuere blandit augue, sed semper ante imperdiet sed. cras egestas posuere augue at semper. praesent fermentum nunc risus, vitae aliquet augue consectetur a. fusce interdum orci nunc, non posuere ex venenatis id. nam faucibus fringilla mollis. nulla ac enim accumsan, accumsan risus sit amet, rutrum tellus. praesent lacinia augue at pulvinar venenatis. etiam nunc augue, suscipit a faucibus sed, sodales ut mauris.  quisque quis magna malesuada, ultricies leo eget, elementum est. praesent enim purus, pretium a nisl quis, accumsan blandit sapien. class aptent taciti sociosqu ad litora torquent per conubia nostra, per inceptos himenaeos. mauris ultricies iaculis nunc, quis fringilla arcu bibendum ac. integer eu sem eget dui tempor sagittis. ut sit amet ipsum quis nisi porttitor pulvinar. etiam suscipit, leo nec fringilla luctus, lacus est egestas augue, eget vestibulum augue diam non eros. duis posuere ac magna eget ullamcorper. '"
      ]
     },
     "execution_count": 108,
     "metadata": {
      "tags": []
     },
     "output_type": "execute_result"
    }
   ],
   "source": [
    "text = text.lower()\n",
    "text = text.replace('\\n', ' ')\n",
    "text"
   ]
  },
  {
   "cell_type": "code",
   "execution_count": null,
   "metadata": {
    "id": "gxsJvbnwnNX-",
    "outputId": "69fbeab2-122e-4c62-8ac6-8c4b6e476935"
   },
   "outputs": [
    {
     "data": {
      "text/plain": [
       "{'a': 194,\n",
       " 'b': 30,\n",
       " 'c': 102,\n",
       " 'd': 76,\n",
       " 'e': 287,\n",
       " 'f': 17,\n",
       " 'g': 38,\n",
       " 'h': 9,\n",
       " 'i': 232,\n",
       " 'j': 1,\n",
       " 'k': 0,\n",
       " 'l': 107,\n",
       " 'm': 105,\n",
       " 'n': 150,\n",
       " 'o': 108,\n",
       " 'p': 65,\n",
       " 'q': 24,\n",
       " 'r': 128,\n",
       " 's': 207,\n",
       " 't': 196,\n",
       " 'u': 193,\n",
       " 'v': 21,\n",
       " 'w': 0,\n",
       " 'x': 5,\n",
       " 'y': 0,\n",
       " 'z': 0,\n",
       " ' ': 419,\n",
       " ',': 47,\n",
       " '.': 46}"
      ]
     },
     "execution_count": 172,
     "metadata": {
      "tags": []
     },
     "output_type": "execute_result"
    }
   ],
   "source": [
    "alphabet = {'a': 0, 'b': 0, 'c': 0, 'd': 0, 'e': 0, 'f': 0, 'g': 0, 'h': 0, 'i': 0, 'j': 0, 'k': 0, 'l': 0, 'm': 0, 'n': 0, 'o': 0, 'p': 0, 'q': 0, 'r': 0, 's': 0, 't': 0, 'u': 0, 'v': 0, 'w': 0, 'x': 0, 'y': 0, 'z': 0}\n",
    "dico = alphabet.copy()\n",
    "for char in text:\n",
    "    dico[char] = dico.get(char, 0) +1\n",
    "dico"
   ]
  },
  {
   "cell_type": "code",
   "execution_count": null,
   "metadata": {
    "id": "20dQP8HXnNYH"
   },
   "outputs": [],
   "source": [
    "alphabet = {'a': 0, 'b': 1, 'c': 2, 'd': 3, 'e': 4, 'f': 5, 'g': 6, 'h': 7, 'i': 8, 'j': 9, 'k': 10, 'l': 11, 'm': 12, 'n': 13, 'o': 14, 'p': 15, 'q': 16, 'r': 17, 's': 18, 't': 19, 'u': 20, 'v': 21, 'w': 22, 'x': 23, 'y': 24, 'z': 25, ' ':26, '':27}\n",
    "dico = alphabet.copy()"
   ]
  },
  {
   "cell_type": "code",
   "execution_count": null,
   "metadata": {
    "id": "5byoSgvKnNYL",
    "outputId": "b548cce5-10d0-4b0e-998b-ae19000ab918",
    "scrolled": true
   },
   "outputs": [
    {
     "data": {
      "text/plain": [
       "{'a': 194,\n",
       " 'b': 30,\n",
       " 'c': 102,\n",
       " 'd': 76,\n",
       " 'e': 287,\n",
       " 'f': 17,\n",
       " 'g': 38,\n",
       " 'h': 9,\n",
       " 'i': 232,\n",
       " 'j': 1,\n",
       " 'k': 0,\n",
       " 'l': 107,\n",
       " 'm': 105,\n",
       " 'n': 150,\n",
       " 'o': 108,\n",
       " 'p': 65,\n",
       " 'q': 24,\n",
       " 'r': 128,\n",
       " 's': 207,\n",
       " 't': 196,\n",
       " 'u': 193,\n",
       " 'v': 21,\n",
       " 'w': 0,\n",
       " 'x': 5,\n",
       " 'y': 0,\n",
       " 'z': 0,\n",
       " ' ': 419,\n",
       " '': 2808}"
      ]
     },
     "execution_count": 126,
     "metadata": {
      "tags": []
     },
     "output_type": "execute_result"
    }
   ],
   "source": [
    "count = [text.count(i) for i in dico]\n",
    "for i,j in dico.items():\n",
    "    dico[i] = count[j]\n",
    "dico"
   ]
  },
  {
   "cell_type": "code",
   "execution_count": null,
   "metadata": {
    "id": "K-gzp2wDnNYQ",
    "outputId": "5052897b-478e-429a-b65c-fb446457b829"
   },
   "outputs": [
    {
     "data": {
      "text/plain": [
       "2807"
      ]
     },
     "execution_count": 173,
     "metadata": {
      "tags": []
     },
     "output_type": "execute_result"
    }
   ],
   "source": [
    "len(text)"
   ]
  },
  {
   "cell_type": "code",
   "execution_count": null,
   "metadata": {
    "id": "p0xeP4t0nNYY"
   },
   "outputs": [],
   "source": [
    "import pandas as pd"
   ]
  },
  {
   "cell_type": "code",
   "execution_count": null,
   "metadata": {
    "id": "5D3MSFDjnNYd",
    "outputId": "1aa20f6c-614b-4494-bf6e-49ea983d1bd9",
    "scrolled": true
   },
   "outputs": [
    {
     "data": {
      "text/html": [
       "<div>\n",
       "<style scoped>\n",
       "    .dataframe tbody tr th:only-of-type {\n",
       "        vertical-align: middle;\n",
       "    }\n",
       "\n",
       "    .dataframe tbody tr th {\n",
       "        vertical-align: top;\n",
       "    }\n",
       "\n",
       "    .dataframe thead th {\n",
       "        text-align: right;\n",
       "    }\n",
       "</style>\n",
       "<table border=\"1\" class=\"dataframe\">\n",
       "  <thead>\n",
       "    <tr style=\"text-align: right;\">\n",
       "      <th></th>\n",
       "      <th>Letter</th>\n",
       "      <th>Frequency</th>\n",
       "    </tr>\n",
       "  </thead>\n",
       "  <tbody>\n",
       "    <tr>\n",
       "      <th>0</th>\n",
       "      <td>a</td>\n",
       "      <td>194</td>\n",
       "    </tr>\n",
       "    <tr>\n",
       "      <th>1</th>\n",
       "      <td>b</td>\n",
       "      <td>30</td>\n",
       "    </tr>\n",
       "    <tr>\n",
       "      <th>2</th>\n",
       "      <td>c</td>\n",
       "      <td>102</td>\n",
       "    </tr>\n",
       "    <tr>\n",
       "      <th>3</th>\n",
       "      <td>d</td>\n",
       "      <td>76</td>\n",
       "    </tr>\n",
       "    <tr>\n",
       "      <th>4</th>\n",
       "      <td>e</td>\n",
       "      <td>287</td>\n",
       "    </tr>\n",
       "    <tr>\n",
       "      <th>5</th>\n",
       "      <td>f</td>\n",
       "      <td>17</td>\n",
       "    </tr>\n",
       "    <tr>\n",
       "      <th>6</th>\n",
       "      <td>g</td>\n",
       "      <td>38</td>\n",
       "    </tr>\n",
       "    <tr>\n",
       "      <th>7</th>\n",
       "      <td>h</td>\n",
       "      <td>9</td>\n",
       "    </tr>\n",
       "    <tr>\n",
       "      <th>8</th>\n",
       "      <td>i</td>\n",
       "      <td>232</td>\n",
       "    </tr>\n",
       "    <tr>\n",
       "      <th>9</th>\n",
       "      <td>j</td>\n",
       "      <td>1</td>\n",
       "    </tr>\n",
       "    <tr>\n",
       "      <th>10</th>\n",
       "      <td>k</td>\n",
       "      <td>0</td>\n",
       "    </tr>\n",
       "    <tr>\n",
       "      <th>11</th>\n",
       "      <td>l</td>\n",
       "      <td>107</td>\n",
       "    </tr>\n",
       "    <tr>\n",
       "      <th>12</th>\n",
       "      <td>m</td>\n",
       "      <td>105</td>\n",
       "    </tr>\n",
       "    <tr>\n",
       "      <th>13</th>\n",
       "      <td>n</td>\n",
       "      <td>150</td>\n",
       "    </tr>\n",
       "    <tr>\n",
       "      <th>14</th>\n",
       "      <td>o</td>\n",
       "      <td>108</td>\n",
       "    </tr>\n",
       "    <tr>\n",
       "      <th>15</th>\n",
       "      <td>p</td>\n",
       "      <td>65</td>\n",
       "    </tr>\n",
       "    <tr>\n",
       "      <th>16</th>\n",
       "      <td>q</td>\n",
       "      <td>24</td>\n",
       "    </tr>\n",
       "    <tr>\n",
       "      <th>17</th>\n",
       "      <td>r</td>\n",
       "      <td>128</td>\n",
       "    </tr>\n",
       "    <tr>\n",
       "      <th>18</th>\n",
       "      <td>s</td>\n",
       "      <td>207</td>\n",
       "    </tr>\n",
       "    <tr>\n",
       "      <th>19</th>\n",
       "      <td>t</td>\n",
       "      <td>196</td>\n",
       "    </tr>\n",
       "    <tr>\n",
       "      <th>20</th>\n",
       "      <td>u</td>\n",
       "      <td>193</td>\n",
       "    </tr>\n",
       "    <tr>\n",
       "      <th>21</th>\n",
       "      <td>v</td>\n",
       "      <td>21</td>\n",
       "    </tr>\n",
       "    <tr>\n",
       "      <th>22</th>\n",
       "      <td>w</td>\n",
       "      <td>0</td>\n",
       "    </tr>\n",
       "    <tr>\n",
       "      <th>23</th>\n",
       "      <td>x</td>\n",
       "      <td>5</td>\n",
       "    </tr>\n",
       "    <tr>\n",
       "      <th>24</th>\n",
       "      <td>y</td>\n",
       "      <td>0</td>\n",
       "    </tr>\n",
       "    <tr>\n",
       "      <th>25</th>\n",
       "      <td>z</td>\n",
       "      <td>0</td>\n",
       "    </tr>\n",
       "  </tbody>\n",
       "</table>\n",
       "</div>"
      ],
      "text/plain": [
       "   Letter  Frequency\n",
       "0       a        194\n",
       "1       b         30\n",
       "2       c        102\n",
       "3       d         76\n",
       "4       e        287\n",
       "5       f         17\n",
       "6       g         38\n",
       "7       h          9\n",
       "8       i        232\n",
       "9       j          1\n",
       "10      k          0\n",
       "11      l        107\n",
       "12      m        105\n",
       "13      n        150\n",
       "14      o        108\n",
       "15      p         65\n",
       "16      q         24\n",
       "17      r        128\n",
       "18      s        207\n",
       "19      t        196\n",
       "20      u        193\n",
       "21      v         21\n",
       "22      w          0\n",
       "23      x          5\n",
       "24      y          0\n",
       "25      z          0"
      ]
     },
     "execution_count": 99,
     "metadata": {
      "tags": []
     },
     "output_type": "execute_result"
    }
   ],
   "source": [
    "df = pd.DataFrame(list(dico.items())[0:26], columns=['Letter', 'Frequency'])\n",
    "df"
   ]
  },
  {
   "cell_type": "code",
   "execution_count": null,
   "metadata": {
    "id": "IDNnh0cQnNYh",
    "outputId": "c5eeaaf2-5898-4c39-a2b4-d9ac508f7ce9"
   },
   "outputs": [
    {
     "data": {
      "text/plain": [
       "<matplotlib.axes._subplots.AxesSubplot at 0x27c8b7ac5c0>"
      ]
     },
     "execution_count": 100,
     "metadata": {
      "tags": []
     },
     "output_type": "execute_result"
    },
    {
     "data": {
      "image/png": "[encoded data removed]",
      "text/plain": [
       "<Figure size 432x288 with 1 Axes>"
      ]
     },
     "metadata": {
      "needs_background": "light",
      "tags": []
     },
     "output_type": "display_data"
    }
   ],
   "source": [
    "df.plot(kind = 'bar', \n",
    "        x = 'Letter', \n",
    "        y = 'Frequency', \n",
    "        color = 'red') "
   ]
  },
  {
   "cell_type": "code",
   "execution_count": null,
   "metadata": {
    "id": "-wz28tJYnNYn"
   },
   "outputs": [],
   "source": [
    "from collections import defaultdict , Counter"
   ]
  },
  {
   "cell_type": "code",
   "execution_count": null,
   "metadata": {
    "id": "pGBCT7ygnNYs"
   },
   "outputs": [],
   "source": [
    "dico = {}\n",
    "dico = defaultdict(list)\n",
    "for index, char in enumerate(text):\n",
    "    dico[char].append(index)\n",
    "dico"
   ]
  },
  {
   "cell_type": "code",
   "execution_count": null,
   "metadata": {
    "id": "uIGbohW6nNYw"
   },
   "outputs": [],
   "source": [
    ""
   ]
  },
  {
   "cell_type": "code",
   "execution_count": null,
   "metadata": {
    "id": "nSLsRC8InNY1",
    "outputId": "9beef637-b45b-436d-99c3-d7c25a57245d"
   },
   "outputs": [
    {
     "data": {
      "text/plain": [
       "Counter({'l': 107,\n",
       "         'o': 108,\n",
       "         'r': 128,\n",
       "         'e': 287,\n",
       "         'm': 105,\n",
       "         ' ': 419,\n",
       "         'i': 232,\n",
       "         'p': 65,\n",
       "         's': 207,\n",
       "         'u': 193,\n",
       "         'd': 76,\n",
       "         't': 196,\n",
       "         'a': 194,\n",
       "         ',': 47,\n",
       "         'c': 102,\n",
       "         'n': 150,\n",
       "         'g': 38,\n",
       "         '.': 46,\n",
       "         'v': 21,\n",
       "         'b': 30,\n",
       "         'q': 24,\n",
       "         'f': 17,\n",
       "         'h': 9,\n",
       "         'x': 5,\n",
       "         'j': 1})"
      ]
     },
     "execution_count": 181,
     "metadata": {
      "tags": []
     },
     "output_type": "execute_result"
    }
   ],
   "source": [
    "Counter(text)"
   ]
  },
  {
   "cell_type": "code",
   "execution_count": null,
   "metadata": {
    "id": "E2Zha9AInNY6",
    "outputId": "f0cf1a2a-902f-4834-a4f8-7aba495cbf27"
   },
   "outputs": [
    {
     "data": {
      "text/plain": [
       "Counter({'lorem': 3,\n",
       "         'ipsum': 2,\n",
       "         'dolor': 2,\n",
       "         'sit': 5,\n",
       "         'amet,': 2,\n",
       "         'consectetur': 4,\n",
       "         'adipiscing': 1,\n",
       "         'elit.': 1,\n",
       "         'vestibulum': 2,\n",
       "         'sagittis': 2,\n",
       "         'neque': 1,\n",
       "         'turpis,': 1,\n",
       "         'in': 7,\n",
       "         'gravida': 3,\n",
       "         'erat': 2,\n",
       "         'tincidunt': 5,\n",
       "         'a.': 3,\n",
       "         'maecenas': 4,\n",
       "         'lobortis': 1,\n",
       "         'rutrum': 2,\n",
       "         'arcu,': 1,\n",
       "         'posuere': 6,\n",
       "         'fermentum': 2,\n",
       "         'sed.': 3,\n",
       "         'duis': 3,\n",
       "         'imperdiet': 3,\n",
       "         'laoreet': 2,\n",
       "         'nibh,': 2,\n",
       "         'a': 6,\n",
       "         'pretium': 2,\n",
       "         'lectus': 1,\n",
       "         'condimentum': 2,\n",
       "         'eget.': 1,\n",
       "         'eu': 6,\n",
       "         'elit': 1,\n",
       "         'vitae': 3,\n",
       "         'nibh': 1,\n",
       "         'euismod': 1,\n",
       "         'lacinia': 2,\n",
       "         'et': 1,\n",
       "         'tortor.': 1,\n",
       "         'donec': 2,\n",
       "         'at': 3,\n",
       "         'egestas': 4,\n",
       "         'leo,': 1,\n",
       "         'eget': 7,\n",
       "         'molestie': 3,\n",
       "         'quam.': 1,\n",
       "         'sed': 6,\n",
       "         'elementum': 3,\n",
       "         'scelerisque': 2,\n",
       "         'sapien,': 1,\n",
       "         'quis': 5,\n",
       "         'suscipit': 4,\n",
       "         'ex': 3,\n",
       "         'malesuada': 4,\n",
       "         'vel.': 1,\n",
       "         'aenean': 1,\n",
       "         'non': 5,\n",
       "         'mollis': 3,\n",
       "         'erat,': 1,\n",
       "         'massa.': 1,\n",
       "         'mauris': 2,\n",
       "         'semper,': 1,\n",
       "         'purus': 2,\n",
       "         'dictum': 1,\n",
       "         'imperdiet,': 1,\n",
       "         'libero': 4,\n",
       "         'nunc': 4,\n",
       "         'bibendum': 3,\n",
       "         'ex,': 1,\n",
       "         'facilisis': 2,\n",
       "         'turpis': 1,\n",
       "         'ac': 4,\n",
       "         'lorem.': 1,\n",
       "         'tortor': 2,\n",
       "         'vel': 2,\n",
       "         'dictum.': 1,\n",
       "         'aliquam': 2,\n",
       "         'dignissim': 1,\n",
       "         'mollis.': 2,\n",
       "         'vehicula': 1,\n",
       "         'feugiat': 1,\n",
       "         'tortor,': 2,\n",
       "         'vulputate': 1,\n",
       "         'nec.': 1,\n",
       "         'ut': 4,\n",
       "         'iaculis': 3,\n",
       "         'nulla,': 1,\n",
       "         'auctor': 1,\n",
       "         'urna': 1,\n",
       "         'dapibus': 2,\n",
       "         'non.': 1,\n",
       "         'fusce': 2,\n",
       "         'tellus': 2,\n",
       "         'amet': 3,\n",
       "         'venenatis.': 2,\n",
       "         'praesent': 5,\n",
       "         'metus': 1,\n",
       "         'enim,': 1,\n",
       "         'et,': 1,\n",
       "         'placerat': 1,\n",
       "         'justo.': 1,\n",
       "         'id': 5,\n",
       "         'ipsum,': 1,\n",
       "         'porttitor': 3,\n",
       "         'magna.': 1,\n",
       "         'accumsan': 4,\n",
       "         'odio': 2,\n",
       "         'mattis.': 1,\n",
       "         'suspendisse': 2,\n",
       "         'ultrices': 1,\n",
       "         'eleifend': 1,\n",
       "         'tristique.': 1,\n",
       "         'vivamus': 1,\n",
       "         'sapien': 1,\n",
       "         'congue': 1,\n",
       "         'mi': 1,\n",
       "         'condimentum.': 1,\n",
       "         'est': 3,\n",
       "         'libero,': 1,\n",
       "         'eu,': 1,\n",
       "         'risus.': 1,\n",
       "         'pharetra': 1,\n",
       "         'rutrum.': 1,\n",
       "         'cras': 3,\n",
       "         'bibendum,': 1,\n",
       "         'dui': 3,\n",
       "         'eleifend,': 1,\n",
       "         'leo': 4,\n",
       "         'tristique': 1,\n",
       "         'enim': 3,\n",
       "         'nisi.': 1,\n",
       "         'augue': 5,\n",
       "         'nec': 2,\n",
       "         'ex.': 1,\n",
       "         'pellentesque': 1,\n",
       "         'laoreet,': 1,\n",
       "         'ut,': 1,\n",
       "         'sodales': 2,\n",
       "         'odio.': 1,\n",
       "         'class': 3,\n",
       "         'aptent': 3,\n",
       "         'taciti': 3,\n",
       "         'sociosqu': 3,\n",
       "         'ad': 3,\n",
       "         'litora': 3,\n",
       "         'torquent': 3,\n",
       "         'per': 6,\n",
       "         'conubia': 3,\n",
       "         'nostra,': 3,\n",
       "         'inceptos': 3,\n",
       "         'himenaeos.': 3,\n",
       "         'interdum,': 1,\n",
       "         'pharetra,': 1,\n",
       "         'nisi': 2,\n",
       "         'faucibus': 4,\n",
       "         'nisl,': 1,\n",
       "         'felis': 1,\n",
       "         'diam': 2,\n",
       "         'urna.': 1,\n",
       "         'metus,': 1,\n",
       "         'luctus': 1,\n",
       "         'vitae,': 1,\n",
       "         'metus.': 1,\n",
       "         'dui,': 1,\n",
       "         'blandit': 2,\n",
       "         'augue,': 3,\n",
       "         'semper': 1,\n",
       "         'ante': 1,\n",
       "         'semper.': 1,\n",
       "         'risus,': 1,\n",
       "         'aliquet': 1,\n",
       "         'interdum': 1,\n",
       "         'orci': 1,\n",
       "         'nunc,': 2,\n",
       "         'venenatis': 1,\n",
       "         'id.': 1,\n",
       "         'nam': 1,\n",
       "         'fringilla': 3,\n",
       "         'nulla': 1,\n",
       "         'accumsan,': 1,\n",
       "         'risus': 1,\n",
       "         'tellus.': 1,\n",
       "         'pulvinar': 1,\n",
       "         'etiam': 2,\n",
       "         'sed,': 1,\n",
       "         'mauris.': 1,\n",
       "         'quisque': 1,\n",
       "         'magna': 2,\n",
       "         'malesuada,': 1,\n",
       "         'ultricies': 2,\n",
       "         'eget,': 1,\n",
       "         'est.': 1,\n",
       "         'purus,': 1,\n",
       "         'nisl': 1,\n",
       "         'quis,': 1,\n",
       "         'sapien.': 1,\n",
       "         'arcu': 1,\n",
       "         'ac.': 1,\n",
       "         'integer': 1,\n",
       "         'sem': 1,\n",
       "         'tempor': 1,\n",
       "         'sagittis.': 1,\n",
       "         'pulvinar.': 1,\n",
       "         'suscipit,': 1,\n",
       "         'luctus,': 1,\n",
       "         'lacus': 1,\n",
       "         'eros.': 1,\n",
       "         'ullamcorper.': 1})"
      ]
     },
     "execution_count": 194,
     "metadata": {
      "tags": []
     },
     "output_type": "execute_result"
    }
   ],
   "source": [
    "Counter(text.split())"
   ]
  },
  {
   "cell_type": "markdown",
   "metadata": {
    "id": "AJs6ngm0nNY_"
   },
   "source": [
    "# Exercice 3 : decoding mARN using dict and list comprehensions !"
   ]
  },
  {
   "cell_type": "markdown",
   "metadata": {
    "id": "joMa5kSvnNZA"
   },
   "source": [
    "In a cell, ribosomes synthesises proteins by translating triplets of nucleotides from the mRNA into a chain of amino-acids.\n",
    "\n",
    "Here is a dictionary made from the inverse table of the DNA-codon-to-amino-acids conversions."
   ]
  },
  {
   "cell_type": "code",
   "execution_count": null,
   "metadata": {
    "id": "mRUwWBTunNZA"
   },
   "outputs": [],
   "source": [
    "amino_acids_from_triplets = {\n",
    " \"Ala\":   (\"GCT\", \"GCC\", \"GCA\", \"GCG\"),\n",
    " \"Arg\":    (\"CGT\", \"CGC\", \"CGA\", \"CGG\", \"AGA\", \"AGG\"),\n",
    " \"Asn\":    (\"AAT\", \"AAC\"),\n",
    " \"Asp\":    (\"GAT\", \"GAC\"),\n",
    " \"Cys\":    (\"TGT\", \"TGC\"),\n",
    " \"Gln\":    (\"CAA\", \"CAG\"),\n",
    " \"Glu\":    (\"GAA\", \"GAG\"),\n",
    " \"Gly\":    (\"GGT\", \"GGC\", \"GGA\", \"GGG\"),\n",
    " \"His\":    (\"CAT\", \"CAC\"),\n",
    " \"Ile\":    (\"ATT\", \"ATC\", \"ATA\"),\n",
    " \"Leu\":    (\"CTT\", \"CTC\", \"CTA\", \"CTG\", \"TTA\", \"TTG\"),\n",
    " \"Lys\":    (\"AAA\", \"AAG\"),\n",
    " \"Met\":    (\"ATG\"),\n",
    " \"Phe\":    (\"TTT\", \"TTC\"),\n",
    " \"Pro\":    (\"CCT\", \"CCC\", \"CCA\", \"CCG\"),\n",
    " \"Ser\":    (\"TCT\", \"TCC\", \"TCA\", \"TCG\", \"AGT\", \"AGC\"),\n",
    " \"Thr\":    (\"ACT\", \"ACC\", \"ACA\", \"ACG\"),\n",
    " \"Trp\":    (\"TGG\"),\n",
    " \"Tyr\":    (\"TAT\", \"TAC\"),\n",
    " \"Val\":    (\"GTT\", \"GTC\", \"GTA\", \"GTG\"),\n",
    " \"STOP\":   (\"TAA\", \"TGA\", \"TAG\") \n",
    "}"
   ]
  },
  {
   "cell_type": "code",
   "execution_count": null,
   "metadata": {
    "id": "RgY37uuznNZF",
    "outputId": "cb051b52-aeac-43a3-ed47-7f84bb3d5cd9"
   },
   "outputs": [
    {
     "data": {
      "text/plain": [
       "{('GCT', 'GCC', 'GCA', 'GCG'): 'Ala',\n",
       " ('CGT', 'CGC', 'CGA', 'CGG', 'AGA', 'AGG'): 'Arg',\n",
       " ('AAT', 'AAC'): 'Asn',\n",
       " ('GAT', 'GAC'): 'Asp',\n",
       " ('TGT', 'TGC'): 'Cys',\n",
       " ('CAA', 'CAG'): 'Gln',\n",
       " ('GAA', 'GAG'): 'Glu',\n",
       " ('GGT', 'GGC', 'GGA', 'GGG'): 'Gly',\n",
       " ('CAT', 'CAC'): 'His',\n",
       " ('ATT', 'ATC', 'ATA'): 'Ile',\n",
       " ('CTT', 'CTC', 'CTA', 'CTG', 'TTA', 'TTG'): 'Leu',\n",
       " ('AAA', 'AAG'): 'Lys',\n",
       " 'ATG': 'Met',\n",
       " ('TTT', 'TTC'): 'Phe',\n",
       " ('CCT', 'CCC', 'CCA', 'CCG'): 'Pro',\n",
       " ('TCT', 'TCC', 'TCA', 'TCG', 'AGT', 'AGC'): 'Ser',\n",
       " ('ACT', 'ACC', 'ACA', 'ACG'): 'Thr',\n",
       " 'TGG': 'Trp',\n",
       " ('TAT', 'TAC'): 'Tyr',\n",
       " ('GTT', 'GTC', 'GTA', 'GTG'): 'Val',\n",
       " ('TAA', 'TGA', 'TAG'): 'STOP'}"
      ]
     },
     "execution_count": 198,
     "metadata": {
      "tags": []
     },
     "output_type": "execute_result"
    }
   ],
   "source": [
    "all_triplets_to_amino_acids = dict([[j,i] for i,j in amino_acids_from_triplets.items()])\n",
    "all_triplets_to_amino_acids"
   ]
  },
  {
   "cell_type": "markdown",
   "metadata": {
    "id": "eaR3gQ1SnNZK"
   },
   "source": [
    "# OU"
   ]
  },
  {
   "cell_type": "code",
   "execution_count": null,
   "metadata": {
    "id": "r7yewk_RnNZL",
    "outputId": "72e8115e-6566-44ee-aaec-07a9516cabf5"
   },
   "outputs": [
    {
     "data": {
      "text/plain": [
       "{('GCT', 'GCC', 'GCA', 'GCG'): 'Ala',\n",
       " ('CGT', 'CGC', 'CGA', 'CGG', 'AGA', 'AGG'): 'Arg',\n",
       " ('AAT', 'AAC'): 'Asn',\n",
       " ('GAT', 'GAC'): 'Asp',\n",
       " ('TGT', 'TGC'): 'Cys',\n",
       " ('CAA', 'CAG'): 'Gln',\n",
       " ('GAA', 'GAG'): 'Glu',\n",
       " ('GGT', 'GGC', 'GGA', 'GGG'): 'Gly',\n",
       " ('CAT', 'CAC'): 'His',\n",
       " ('ATT', 'ATC', 'ATA'): 'Ile',\n",
       " ('CTT', 'CTC', 'CTA', 'CTG', 'TTA', 'TTG'): 'Leu',\n",
       " ('AAA', 'AAG'): 'Lys',\n",
       " 'ATG': 'Met',\n",
       " ('TTT', 'TTC'): 'Phe',\n",
       " ('CCT', 'CCC', 'CCA', 'CCG'): 'Pro',\n",
       " ('TCT', 'TCC', 'TCA', 'TCG', 'AGT', 'AGC'): 'Ser',\n",
       " ('ACT', 'ACC', 'ACA', 'ACG'): 'Thr',\n",
       " 'TGG': 'Trp',\n",
       " ('TAT', 'TAC'): 'Tyr',\n",
       " ('GTT', 'GTC', 'GTA', 'GTG'): 'Val',\n",
       " ('TAA', 'TGA', 'TAG'): 'STOP'}"
      ]
     },
     "execution_count": 199,
     "metadata": {
      "tags": []
     },
     "output_type": "execute_result"
    }
   ],
   "source": [
    "all_triplets_to_amino_acids = {j:i for i,j in amino_acids_from_triplets.items()}\n",
    "all_triplets_to_amino_acids"
   ]
  },
  {
   "cell_type": "code",
   "execution_count": null,
   "metadata": {
    "id": "59Q78Q69nNZP",
    "outputId": "3432401a-28e7-4a93-b6fb-e4296d3a8b4d",
    "scrolled": true
   },
   "outputs": [
    {
     "data": {
      "text/plain": [
       "{'GCT': 'Ala',\n",
       " 'GCC': 'Ala',\n",
       " 'GCA': 'Ala',\n",
       " 'GCG': 'Ala',\n",
       " 'CGT': 'Arg',\n",
       " 'CGC': 'Arg',\n",
       " 'CGA': 'Arg',\n",
       " 'CGG': 'Arg',\n",
       " 'AGA': 'Arg',\n",
       " 'AGG': 'Arg',\n",
       " 'AAT': 'Asn',\n",
       " 'AAC': 'Asn',\n",
       " 'GAT': 'Asp',\n",
       " 'GAC': 'Asp',\n",
       " 'TGT': 'Cys',\n",
       " 'TGC': 'Cys',\n",
       " 'CAA': 'Gln',\n",
       " 'CAG': 'Gln',\n",
       " 'GAA': 'Glu',\n",
       " 'GAG': 'Glu',\n",
       " 'GGT': 'Gly',\n",
       " 'GGC': 'Gly',\n",
       " 'GGA': 'Gly',\n",
       " 'GGG': 'Gly',\n",
       " 'CAT': 'His',\n",
       " 'CAC': 'His',\n",
       " 'ATT': 'Ile',\n",
       " 'ATC': 'Ile',\n",
       " 'ATA': 'Ile',\n",
       " 'CTT': 'Leu',\n",
       " 'CTC': 'Leu',\n",
       " 'CTA': 'Leu',\n",
       " 'CTG': 'Leu',\n",
       " 'TTA': 'Leu',\n",
       " 'TTG': 'Leu',\n",
       " 'AAA': 'Lys',\n",
       " 'AAG': 'Lys',\n",
       " 'ATG': 'Met',\n",
       " 'TTT': 'Phe',\n",
       " 'TTC': 'Phe',\n",
       " 'CCT': 'Pro',\n",
       " 'CCC': 'Pro',\n",
       " 'CCA': 'Pro',\n",
       " 'CCG': 'Pro',\n",
       " 'TCT': 'Ser',\n",
       " 'TCC': 'Ser',\n",
       " 'TCA': 'Ser',\n",
       " 'TCG': 'Ser',\n",
       " 'AGT': 'Ser',\n",
       " 'AGC': 'Ser',\n",
       " 'ACT': 'Thr',\n",
       " 'ACC': 'Thr',\n",
       " 'ACA': 'Thr',\n",
       " 'ACG': 'Thr',\n",
       " 'TGG': 'Trp',\n",
       " 'TAT': 'Tyr',\n",
       " 'TAC': 'Tyr',\n",
       " 'GTT': 'Val',\n",
       " 'GTC': 'Val',\n",
       " 'GTA': 'Val',\n",
       " 'GTG': 'Val',\n",
       " 'TAA': 'STOP',\n",
       " 'TGA': 'STOP',\n",
       " 'TAG': 'STOP'}"
      ]
     },
     "execution_count": 251,
     "metadata": {
      "tags": []
     },
     "output_type": "execute_result"
    }
   ],
   "source": [
    "triplets_to_amino_acids = dict()\n",
    "for i in all_triplets_to_amino_acids.keys():\n",
    "    for j in [i]:\n",
    "        if len(str(j))==3:\n",
    "            triplets_to_amino_acids[j] = all_triplets_to_amino_acids[i]\n",
    "        else :\n",
    "            for k in j:\n",
    "                triplets_to_amino_acids[k] = all_triplets_to_amino_acids[i]\n",
    "triplets_to_amino_acids"
   ]
  },
  {
   "cell_type": "markdown",
   "metadata": {
    "id": "3IVlKjqjnNZT"
   },
   "source": [
    "# ou"
   ]
  },
  {
   "cell_type": "code",
   "execution_count": null,
   "metadata": {
    "id": "Xpb2-uVKnNZU",
    "outputId": "2a87d790-ab83-4fe6-9262-2afb2973db10",
    "scrolled": true
   },
   "outputs": [
    {
     "data": {
      "text/plain": [
       "{'GCT': 'Ala',\n",
       " 'GCC': 'Ala',\n",
       " 'GCA': 'Ala',\n",
       " 'GCG': 'Ala',\n",
       " 'CGT': 'Arg',\n",
       " 'CGC': 'Arg',\n",
       " 'CGA': 'Arg',\n",
       " 'CGG': 'Arg',\n",
       " 'AGA': 'Arg',\n",
       " 'AGG': 'Arg',\n",
       " 'AAT': 'Asn',\n",
       " 'AAC': 'Asn',\n",
       " 'GAT': 'Asp',\n",
       " 'GAC': 'Asp',\n",
       " 'TGT': 'Cys',\n",
       " 'TGC': 'Cys',\n",
       " 'CAA': 'Gln',\n",
       " 'CAG': 'Gln',\n",
       " 'GAA': 'Glu',\n",
       " 'GAG': 'Glu',\n",
       " 'GGT': 'Gly',\n",
       " 'GGC': 'Gly',\n",
       " 'GGA': 'Gly',\n",
       " 'GGG': 'Gly',\n",
       " 'CAT': 'His',\n",
       " 'CAC': 'His',\n",
       " 'ATT': 'Ile',\n",
       " 'ATC': 'Ile',\n",
       " 'ATA': 'Ile',\n",
       " 'CTT': 'Leu',\n",
       " 'CTC': 'Leu',\n",
       " 'CTA': 'Leu',\n",
       " 'CTG': 'Leu',\n",
       " 'TTA': 'Leu',\n",
       " 'TTG': 'Leu',\n",
       " 'AAA': 'Lys',\n",
       " 'AAG': 'Lys',\n",
       " 'ATG': 'Met',\n",
       " 'TTT': 'Phe',\n",
       " 'TTC': 'Phe',\n",
       " 'CCT': 'Pro',\n",
       " 'CCC': 'Pro',\n",
       " 'CCA': 'Pro',\n",
       " 'CCG': 'Pro',\n",
       " 'TCT': 'Ser',\n",
       " 'TCC': 'Ser',\n",
       " 'TCA': 'Ser',\n",
       " 'TCG': 'Ser',\n",
       " 'AGT': 'Ser',\n",
       " 'AGC': 'Ser',\n",
       " 'ACT': 'Thr',\n",
       " 'ACC': 'Thr',\n",
       " 'ACA': 'Thr',\n",
       " 'ACG': 'Thr',\n",
       " 'TGG': 'Trp',\n",
       " 'TAT': 'Tyr',\n",
       " 'TAC': 'Tyr',\n",
       " 'GTT': 'Val',\n",
       " 'GTC': 'Val',\n",
       " 'GTA': 'Val',\n",
       " 'GTG': 'Val',\n",
       " 'TAA': 'STOP',\n",
       " 'TGA': 'STOP',\n",
       " 'TAG': 'STOP'}"
      ]
     },
     "execution_count": 268,
     "metadata": {
      "tags": []
     },
     "output_type": "execute_result"
    }
   ],
   "source": [
    "triplets_to_amino_acids = dict()\n",
    "for key, val in all_triplets_to_amino_acids.items():\n",
    "        if type(key) is tuple:\n",
    "            for element in key:\n",
    "                triplets_to_amino_acids[element] = val\n",
    "        else:\n",
    "            triplets_to_amino_acids[key] = val\n",
    "triplets_to_amino_acids"
   ]
  },
  {
   "cell_type": "markdown",
   "metadata": {
    "id": "D4vf5dgynNZZ"
   },
   "source": [
    "# ou"
   ]
  },
  {
   "cell_type": "markdown",
   "metadata": {
    "id": "fnl_8eTknNZa"
   },
   "source": [
    "### 2 for il fait alors le produit cartésien"
   ]
  },
  {
   "cell_type": "code",
   "execution_count": null,
   "metadata": {
    "id": "oGfTKD_hnNZb",
    "outputId": "80a97bd5-6f01-438d-c84d-41347640da77",
    "scrolled": true
   },
   "outputs": [
    {
     "data": {
      "text/plain": [
       "{'GCT': 'Ala',\n",
       " 'GCC': 'Ala',\n",
       " 'GCA': 'Ala',\n",
       " 'GCG': 'Ala',\n",
       " 'CGT': 'Arg',\n",
       " 'CGC': 'Arg',\n",
       " 'CGA': 'Arg',\n",
       " 'CGG': 'Arg',\n",
       " 'AGA': 'Arg',\n",
       " 'AGG': 'Arg',\n",
       " 'AAT': 'Asn',\n",
       " 'AAC': 'Asn',\n",
       " 'GAT': 'Asp',\n",
       " 'GAC': 'Asp',\n",
       " 'TGT': 'Cys',\n",
       " 'TGC': 'Cys',\n",
       " 'CAA': 'Gln',\n",
       " 'CAG': 'Gln',\n",
       " 'GAA': 'Glu',\n",
       " 'GAG': 'Glu',\n",
       " 'GGT': 'Gly',\n",
       " 'GGC': 'Gly',\n",
       " 'GGA': 'Gly',\n",
       " 'GGG': 'Gly',\n",
       " 'CAT': 'His',\n",
       " 'CAC': 'His',\n",
       " 'ATT': 'Ile',\n",
       " 'ATC': 'Ile',\n",
       " 'ATA': 'Ile',\n",
       " 'CTT': 'Leu',\n",
       " 'CTC': 'Leu',\n",
       " 'CTA': 'Leu',\n",
       " 'CTG': 'Leu',\n",
       " 'TTA': 'Leu',\n",
       " 'TTG': 'Leu',\n",
       " 'AAA': 'Lys',\n",
       " 'AAG': 'Lys',\n",
       " 'TTT': 'Phe',\n",
       " 'TTC': 'Phe',\n",
       " 'CCT': 'Pro',\n",
       " 'CCC': 'Pro',\n",
       " 'CCA': 'Pro',\n",
       " 'CCG': 'Pro',\n",
       " 'TCT': 'Ser',\n",
       " 'TCC': 'Ser',\n",
       " 'TCA': 'Ser',\n",
       " 'TCG': 'Ser',\n",
       " 'AGT': 'Ser',\n",
       " 'AGC': 'Ser',\n",
       " 'ACT': 'Thr',\n",
       " 'ACC': 'Thr',\n",
       " 'ACA': 'Thr',\n",
       " 'ACG': 'Thr',\n",
       " 'TAT': 'Tyr',\n",
       " 'TAC': 'Tyr',\n",
       " 'GTT': 'Val',\n",
       " 'GTC': 'Val',\n",
       " 'GTA': 'Val',\n",
       " 'GTG': 'Val',\n",
       " 'TAA': 'STOP',\n",
       " 'TGA': 'STOP',\n",
       " 'TAG': 'STOP'}"
      ]
     },
     "execution_count": 278,
     "metadata": {
      "tags": []
     },
     "output_type": "execute_result"
    }
   ],
   "source": [
    "{k:val for key, val in all_triplets_to_amino_acids.items() for k in key if type(key) is tuple} #if à la fin = filtrage"
   ]
  },
  {
   "cell_type": "code",
   "execution_count": null,
   "metadata": {
    "id": "vWR9V3wjnNZf"
   },
   "outputs": [],
   "source": [
    "translator_dict = { k if type(key) is tuple else key:val for key, val in all_triplets_to_amino_acids.items() for k in key } #if au début"
   ]
  },
  {
   "cell_type": "code",
   "execution_count": null,
   "metadata": {
    "id": "X6D8BtYynNZl"
   },
   "outputs": [],
   "source": [
    "arn = \"GCCGAGTAACTAGCCAGCT ATGACACGATCCCGGCTAGGAAAGTG AACCCGCGGAAGTATATTGGTACCTC ACGGTAGGAGACGGCGGGATAATTCT TGTCGCTGTGTGTGCCATCGTACACG AGACGGGTCCACTGAGTAAAGCGAGT ATCACACAGACGAAGGTGACCTCCCC TTGTAGTCAGTAATCTTTCCTGAATC TAATTACTGTCATCGATTGCAAAACT TTGCAAAAAAACATTTGTAGACAACC GCTTACGTGGCGCTTCCTGCATTAAA CGATTCCGGTGCACGGAACAA\""
   ]
  },
  {
   "cell_type": "code",
   "execution_count": null,
   "metadata": {
    "id": "EpBgQqgHnNZq",
    "outputId": "9acb0e36-7603-4ba4-b84f-968163c98cba"
   },
   "outputs": [
    {
     "data": {
      "text/plain": [
       "'GCCGAGTAACTAGCCAGCTATGACACGATCCCGGCTAGGAAAGTGAACCCGCGGAAGTATATTGGTACCTCACGGTAGGAGACGGCGGGATAATTCTTGTCGCTGTGTGTGCCATCGTACACGAGACGGGTCCACTGAGTAAAGCGAGTATCACACAGACGAAGGTGACCTCCCCTTGTAGTCAGTAATCTTTCCTGAATCTAATTACTGTCATCGATTGCAAAACTTTGCAAAAAAACATTTGTAGACAACCGCTTACGTGGCGCTTCCTGCATTAAACGATTCCGGTGCACGGAACAA'"
      ]
     },
     "execution_count": 260,
     "metadata": {
      "tags": []
     },
     "output_type": "execute_result"
    }
   ],
   "source": [
    "arn = arn.replace(\" \",\"\")\n",
    "arn"
   ]
  },
  {
   "cell_type": "code",
   "execution_count": null,
   "metadata": {
    "id": "YlNDrwyDnNZu",
    "scrolled": true
   },
   "outputs": [],
   "source": [
    "triplets = [arn[k:k+3] for k in range(0,len(arn),3)]"
   ]
  },
  {
   "cell_type": "code",
   "execution_count": null,
   "metadata": {
    "id": "yKXd9JhynNZ6",
    "outputId": "86bcdac3-c802-46ae-ea4d-0e87ad87844b"
   },
   "outputs": [
    {
     "data": {
      "text/plain": [
       "'Ala-Glu-STOP-Leu-Ala-Ser-Tyr-Asp-Thr-Ile-Pro-Ala-Arg-Lys-Val-Asn-Pro-Arg-Lys-Tyr-Ile-Gly-Thr-Ser-Arg-STOP-Glu-Thr-Ala-Gly-STOP-Phe-Leu-Ser-Leu-Cys-Val-Pro-Ser-Tyr-Thr-Arg-Arg-Val-His-STOP-Val-Lys-Arg-Val-Ser-His-Arg-Arg-Arg-STOP-Pro-Pro-Leu-Val-Val-Ser-Asn-Leu-Ser-STOP-Ile-STOP-Leu-Leu-Ser-Ser-Ile-Ala-Lys-Leu-Cys-Lys-Lys-Thr-Phe-Val-Asp-Asn-Arg-Leu-Arg-Gly-Ala-Ser-Cys-Ile-Lys-Arg-Phe-Arg-Cys-Thr-Glu-Gln'"
      ]
     },
     "execution_count": 289,
     "metadata": {
      "tags": []
     },
     "output_type": "execute_result"
    }
   ],
   "source": [
    "\"-\".join([translator_dict[triplet] for triplet in triplets])"
   ]
  },
  {
   "cell_type": "markdown",
   "metadata": {
    "id": "v_yAMqgynNZ-"
   },
   "source": [
    "# Exercice 4 : functions"
   ]
  },
  {
   "cell_type": "code",
   "execution_count": null,
   "metadata": {
    "id": "Av6fNyHLnNZ-",
    "outputId": "08412ee0-05d8-4f91-af47-15c4a6e5632b"
   },
   "outputs": [
    {
     "name": "stdout",
     "output_type": "stream",
     "text": [
      "Hello\n"
     ]
    }
   ],
   "source": [
    "def hello():\n",
    "    print(\"Hello\")\n",
    "hello()"
   ]
  },
  {
   "cell_type": "code",
   "execution_count": null,
   "metadata": {
    "id": "OuQxSfnSnNaF",
    "outputId": "88e7a577-395c-44c9-e770-7b0f21c8f2cc"
   },
   "outputs": [
    {
     "name": "stdout",
     "output_type": "stream",
     "text": [
      "Hello Luc\n"
     ]
    }
   ],
   "source": [
    "def hello(name):\n",
    "    print(\"Hello {}\".format(name))\n",
    "hello(\"Luc\")"
   ]
  },
  {
   "cell_type": "code",
   "execution_count": null,
   "metadata": {
    "id": "wsWdcJuSnNaJ",
    "outputId": "6d1b0866-61a6-4962-a601-f495b63a8f44"
   },
   "outputs": [
    {
     "name": "stdout",
     "output_type": "stream",
     "text": [
      "Hello unkown person\n"
     ]
    }
   ],
   "source": [
    "def hello(name=\"unkown person\"):\n",
    "    print(\"Hello {}\".format(name))\n",
    "hello()"
   ]
  },
  {
   "cell_type": "markdown",
   "metadata": {
    "id": "_SmlbQXonNaN"
   },
   "source": [
    "# POSITIONAL ARGUMENT"
   ]
  },
  {
   "cell_type": "code",
   "execution_count": null,
   "metadata": {
    "id": "FNOUyFlSnNaN",
    "outputId": "e1068979-08f3-4894-c744-58fcb68336bb"
   },
   "outputs": [
    {
     "name": "stdout",
     "output_type": "stream",
     "text": [
      "Hello unkown person, you are ? years old.\n",
      "Hello Luc, you are 25 years old.\n"
     ]
    },
    {
     "ename": "AttributeError",
     "evalue": "'int' object has no attribute 'upper'",
     "output_type": "error",
     "traceback": [
      "\u001b[1;31m---------------------------------------------------------------------------\u001b[0m",
      "\u001b[1;31mAttributeError\u001b[0m                            Traceback (most recent call last)",
      "\u001b[1;32m<ipython-input-297-7d0459d3def0>\u001b[0m in \u001b[0;36m<module>\u001b[1;34m\u001b[0m\n\u001b[0;32m      4\u001b[0m \u001b[0mhello\u001b[0m\u001b[1;33m(\u001b[0m\u001b[1;33m)\u001b[0m\u001b[1;33m\u001b[0m\u001b[1;33m\u001b[0m\u001b[0m\n\u001b[0;32m      5\u001b[0m \u001b[0mhello\u001b[0m\u001b[1;33m(\u001b[0m\u001b[1;34m\"Luc\"\u001b[0m\u001b[1;33m,\u001b[0m \u001b[1;36m25\u001b[0m\u001b[1;33m)\u001b[0m\u001b[1;33m\u001b[0m\u001b[1;33m\u001b[0m\u001b[0m\n\u001b[1;32m----> 6\u001b[1;33m \u001b[0mhello\u001b[0m\u001b[1;33m(\u001b[0m\u001b[1;36m25\u001b[0m\u001b[1;33m,\u001b[0m\u001b[1;34m\"Luc\"\u001b[0m\u001b[1;33m)\u001b[0m\u001b[1;33m\u001b[0m\u001b[1;33m\u001b[0m\u001b[0m\n\u001b[0m",
      "\u001b[1;32m<ipython-input-297-7d0459d3def0>\u001b[0m in \u001b[0;36mhello\u001b[1;34m(name, age)\u001b[0m\n\u001b[0;32m      1\u001b[0m \u001b[1;32mdef\u001b[0m \u001b[0mhello\u001b[0m\u001b[1;33m(\u001b[0m\u001b[0mname\u001b[0m\u001b[1;33m=\u001b[0m\u001b[1;34m\"unkown person\"\u001b[0m\u001b[1;33m,\u001b[0m \u001b[0mage\u001b[0m\u001b[1;33m=\u001b[0m\u001b[1;34m\"?\"\u001b[0m\u001b[1;33m)\u001b[0m\u001b[1;33m:\u001b[0m\u001b[1;33m\u001b[0m\u001b[1;33m\u001b[0m\u001b[0m\n\u001b[1;32m----> 2\u001b[1;33m     \u001b[0mname\u001b[0m\u001b[1;33m.\u001b[0m\u001b[0mupper\u001b[0m\u001b[1;33m\u001b[0m\u001b[1;33m\u001b[0m\u001b[0m\n\u001b[0m\u001b[0;32m      3\u001b[0m     \u001b[0mprint\u001b[0m\u001b[1;33m(\u001b[0m\u001b[1;34m\"Hello {}, you are {} years old.\"\u001b[0m\u001b[1;33m.\u001b[0m\u001b[0mformat\u001b[0m\u001b[1;33m(\u001b[0m\u001b[0mname\u001b[0m\u001b[1;33m,\u001b[0m \u001b[0mage\u001b[0m\u001b[1;33m)\u001b[0m\u001b[1;33m)\u001b[0m\u001b[1;33m\u001b[0m\u001b[1;33m\u001b[0m\u001b[0m\n\u001b[0;32m      4\u001b[0m \u001b[0mhello\u001b[0m\u001b[1;33m(\u001b[0m\u001b[1;33m)\u001b[0m\u001b[1;33m\u001b[0m\u001b[1;33m\u001b[0m\u001b[0m\n\u001b[0;32m      5\u001b[0m \u001b[0mhello\u001b[0m\u001b[1;33m(\u001b[0m\u001b[1;34m\"Luc\"\u001b[0m\u001b[1;33m,\u001b[0m \u001b[1;36m25\u001b[0m\u001b[1;33m)\u001b[0m\u001b[1;33m\u001b[0m\u001b[1;33m\u001b[0m\u001b[0m\n",
      "\u001b[1;31mAttributeError\u001b[0m: 'int' object has no attribute 'upper'"
     ]
    }
   ],
   "source": [
    "def hello(name=\"unkown person\", age=\"?\"):\n",
    "    name.upper\n",
    "    print(\"Hello {}, you are {} years old.\".format(name, age))\n",
    "hello()\n",
    "hello(\"Luc\", 25)\n",
    "hello(25,\"Luc\")"
   ]
  },
  {
   "cell_type": "code",
   "execution_count": null,
   "metadata": {
    "id": "vjWgnGCJnNaR",
    "outputId": "4db09ecb-f8b6-4792-dd97-0b20cfa39572"
   },
   "outputs": [
    {
     "name": "stdout",
     "output_type": "stream",
     "text": [
      "Hello unkown person, you are ? years old.\n",
      "Hello Luc, you are 25 years old.\n"
     ]
    }
   ],
   "source": [
    "def hello(name=\"unkown person\", age=\"?\"):\n",
    "    name.upper\n",
    "    print(\"Hello {}, you are {} years old.\".format(name, age))\n",
    "hello()\n",
    "hello(age = 25,name=\"Luc\")"
   ]
  },
  {
   "cell_type": "code",
   "execution_count": null,
   "metadata": {
    "id": "pTk9MJnFnNaV",
    "outputId": "b7ce902c-c242-4ed1-e202-a866bc9b14d4"
   },
   "outputs": [
    {
     "name": "stdout",
     "output_type": "stream",
     "text": [
      "Hello Luc, you are 25 years old.\n",
      "Hello Corentin, you are 18 years old.\n",
      "Hello Thomas, you are 29 years old.\n",
      "Hello Julie, you are 22 years old.\n",
      "Hello Juliette, you are 21 years old.\n"
     ]
    }
   ],
   "source": [
    "inputs = {'Luc': 25, 'Corentin': 18, 'Thomas': 29, 'Julie': 22, 'Juliette': 21}\n",
    "for name, age in inputs.items():\n",
    "    hello(name, age)"
   ]
  },
  {
   "cell_type": "code",
   "execution_count": null,
   "metadata": {
    "id": "w4IMowFQnNac",
    "outputId": "7bca9377-0864-444a-ca3f-a28d8791075c"
   },
   "outputs": [
    {
     "name": "stdout",
     "output_type": "stream",
     "text": [
      "Hello Luc, you are 25 years old.\n"
     ]
    }
   ],
   "source": [
    "list_of_arguments = ['Luc', 25]\n",
    "hello(*list_of_arguments) #unpacking de liste"
   ]
  },
  {
   "cell_type": "code",
   "execution_count": null,
   "metadata": {
    "id": "M6a2SA9enNag",
    "outputId": "a04dd7bb-4051-4f5d-813c-638e22710449"
   },
   "outputs": [
    {
     "ename": "AttributeError",
     "evalue": "'int' object has no attribute 'upper'",
     "output_type": "error",
     "traceback": [
      "\u001b[1;31m---------------------------------------------------------------------------\u001b[0m",
      "\u001b[1;31mAttributeError\u001b[0m                            Traceback (most recent call last)",
      "\u001b[1;32m<ipython-input-305-9a91142cfacf>\u001b[0m in \u001b[0;36m<module>\u001b[1;34m\u001b[0m\n\u001b[0;32m      1\u001b[0m \u001b[0mlist_of_arguments\u001b[0m \u001b[1;33m=\u001b[0m \u001b[1;33m[\u001b[0m\u001b[1;36m25\u001b[0m\u001b[1;33m,\u001b[0m\u001b[1;34m'Luc'\u001b[0m\u001b[1;33m]\u001b[0m\u001b[1;33m\u001b[0m\u001b[1;33m\u001b[0m\u001b[0m\n\u001b[1;32m----> 2\u001b[1;33m \u001b[0mhello\u001b[0m\u001b[1;33m(\u001b[0m\u001b[1;33m*\u001b[0m\u001b[0mlist_of_arguments\u001b[0m\u001b[1;33m)\u001b[0m\u001b[1;33m\u001b[0m\u001b[1;33m\u001b[0m\u001b[0m\n\u001b[0m",
      "\u001b[1;32m<ipython-input-299-cd50f68edd8d>\u001b[0m in \u001b[0;36mhello\u001b[1;34m(name, age)\u001b[0m\n\u001b[0;32m      1\u001b[0m \u001b[1;32mdef\u001b[0m \u001b[0mhello\u001b[0m\u001b[1;33m(\u001b[0m\u001b[0mname\u001b[0m\u001b[1;33m=\u001b[0m\u001b[1;34m\"unkown person\"\u001b[0m\u001b[1;33m,\u001b[0m \u001b[0mage\u001b[0m\u001b[1;33m=\u001b[0m\u001b[1;34m\"?\"\u001b[0m\u001b[1;33m)\u001b[0m\u001b[1;33m:\u001b[0m\u001b[1;33m\u001b[0m\u001b[1;33m\u001b[0m\u001b[0m\n\u001b[1;32m----> 2\u001b[1;33m     \u001b[0mname\u001b[0m\u001b[1;33m.\u001b[0m\u001b[0mupper\u001b[0m\u001b[1;33m\u001b[0m\u001b[1;33m\u001b[0m\u001b[0m\n\u001b[0m\u001b[0;32m      3\u001b[0m     \u001b[0mprint\u001b[0m\u001b[1;33m(\u001b[0m\u001b[1;34m\"Hello {}, you are {} years old.\"\u001b[0m\u001b[1;33m.\u001b[0m\u001b[0mformat\u001b[0m\u001b[1;33m(\u001b[0m\u001b[0mname\u001b[0m\u001b[1;33m,\u001b[0m \u001b[0mage\u001b[0m\u001b[1;33m)\u001b[0m\u001b[1;33m)\u001b[0m\u001b[1;33m\u001b[0m\u001b[1;33m\u001b[0m\u001b[0m\n\u001b[0;32m      4\u001b[0m \u001b[0mhello\u001b[0m\u001b[1;33m(\u001b[0m\u001b[1;33m)\u001b[0m\u001b[1;33m\u001b[0m\u001b[1;33m\u001b[0m\u001b[0m\n\u001b[0;32m      5\u001b[0m \u001b[0mhello\u001b[0m\u001b[1;33m(\u001b[0m\u001b[0mage\u001b[0m \u001b[1;33m=\u001b[0m \u001b[1;36m25\u001b[0m\u001b[1;33m,\u001b[0m\u001b[0mname\u001b[0m\u001b[1;33m=\u001b[0m\u001b[1;34m\"Luc\"\u001b[0m\u001b[1;33m)\u001b[0m\u001b[1;33m\u001b[0m\u001b[1;33m\u001b[0m\u001b[0m\n",
      "\u001b[1;31mAttributeError\u001b[0m: 'int' object has no attribute 'upper'"
     ]
    }
   ],
   "source": [
    "list_of_arguments = [25,'Luc']\n",
    "hello(*list_of_arguments)"
   ]
  },
  {
   "cell_type": "code",
   "execution_count": null,
   "metadata": {
    "id": "A4f21Cs3nNak",
    "outputId": "6832f458-0c89-4328-ffdb-5be967c36cb7"
   },
   "outputs": [
    {
     "name": "stdout",
     "output_type": "stream",
     "text": [
      "Hello Luc, you are 25 years old.\n"
     ]
    }
   ],
   "source": [
    "dict_of_arguments = {'age':25, 'name': 'Luc'}\n",
    "hello(**dict_of_arguments) #unpacking de dictionnaire"
   ]
  },
  {
   "cell_type": "markdown",
   "metadata": {
    "id": "H4-TQ00xnNap"
   },
   "source": [
    "# Function with undefined nbr of arguments"
   ]
  },
  {
   "cell_type": "code",
   "execution_count": null,
   "metadata": {
    "id": "c4uTkYSWnNaq"
   },
   "outputs": [],
   "source": [
    "def multiply(*args, inverse=False):\n",
    "    print(args)\n",
    "    result = 1 \n",
    "    for arg in args:\n",
    "        result *= arg\n",
    "    if inverse:\n",
    "        return 1/result\n",
    "    return result"
   ]
  },
  {
   "cell_type": "code",
   "execution_count": null,
   "metadata": {
    "id": "NWexwJcRnNat",
    "outputId": "27ac0a06-9f5c-4dc0-e195-94ebea82b886"
   },
   "outputs": [
    {
     "name": "stdout",
     "output_type": "stream",
     "text": [
      "(2, 3)\n"
     ]
    },
    {
     "data": {
      "text/plain": [
       "0.16666666666666666"
      ]
     },
     "execution_count": 313,
     "metadata": {
      "tags": []
     },
     "output_type": "execute_result"
    }
   ],
   "source": [
    "multiply(2,3, inverse=True)"
   ]
  },
  {
   "cell_type": "code",
   "execution_count": null,
   "metadata": {
    "id": "e3c8jrv5nNa1"
   },
   "outputs": [],
   "source": [
    "def multiply(*args, **kwargs): ##NOMBRE INDEFINI DE KEYWORD ARGUMENT\n",
    "    print(args)\n",
    "    print(kwargs)\n",
    "    result = 1 \n",
    "    for arg in args:\n",
    "        result *= arg\n",
    "    if kwargs.get(\"inverse\", False):\n",
    "        result = 1/result\n",
    "    return result"
   ]
  },
  {
   "cell_type": "code",
   "execution_count": null,
   "metadata": {
    "id": "5PqInvEynNa4",
    "outputId": "12f28564-41f9-4162-fb5c-cb7fe451f74c"
   },
   "outputs": [
    {
     "name": "stdout",
     "output_type": "stream",
     "text": [
      "(2, 3, 4)\n",
      "{'inverse': True, 'negation': True, 'star': 'salut'}\n"
     ]
    },
    {
     "data": {
      "text/plain": [
       "0.041666666666666664"
      ]
     },
     "execution_count": 321,
     "metadata": {
      "tags": []
     },
     "output_type": "execute_result"
    }
   ],
   "source": [
    "multiply(2,3,4, inverse=True, negation=True, star=\"salut\")"
   ]
  },
  {
   "cell_type": "code",
   "execution_count": null,
   "metadata": {
    "id": "OLRji7yXnNa_"
   },
   "outputs": [],
   "source": [
    "def multiply(*args, **kwargs): ##NOMBRE INDEFINI DE KEYWORD ARGUMENT\n",
    "    print(args)\n",
    "    print(kwargs)\n",
    "    result = 1 \n",
    "    for arg in args:\n",
    "        result *= arg\n",
    "    if \"inverse\" in kwargs:\n",
    "        if kwargs[\"inverse\"] == True:\n",
    "            result = 1/result\n",
    "    return result"
   ]
  },
  {
   "cell_type": "code",
   "execution_count": null,
   "metadata": {
    "id": "nnAaDsQpnNbC",
    "outputId": "8013e8ee-f5fb-4e8a-d278-2539f4557628"
   },
   "outputs": [
    {
     "name": "stdout",
     "output_type": "stream",
     "text": [
      "(2, 3, 4)\n",
      "{'inverse': True, 'negation': True, 'star': 'salut'}\n"
     ]
    },
    {
     "data": {
      "text/plain": [
       "0.041666666666666664"
      ]
     },
     "execution_count": 323,
     "metadata": {
      "tags": []
     },
     "output_type": "execute_result"
    }
   ],
   "source": [
    "multiply(2,3,4, inverse=True, negation=True, star=\"salut\")"
   ]
  },
  {
   "cell_type": "code",
   "execution_count": null,
   "metadata": {
    "id": "XFdj7il2nNbI"
   },
   "outputs": [],
   "source": [
    ""
   ]
  }
 ],
 "metadata": {
  "colab": {
   "name": "TD-PYTHON-FOR-DATA-ANALYSIS.ipynb",
   "provenance": []
  },
  "kernelspec": {
   "display_name": "Python 3",
   "language": "python",
   "name": "python3"
  },
  "language_info": {
   "codemirror_mode": {
    "name": "ipython",
    "version": 3
   },
   "file_extension": ".py",
   "mimetype": "text/x-python",
   "name": "python",
   "nbconvert_exporter": "python",
   "pygments_lexer": "ipython3",
   "version": "3.7.1"
  }
 },
 "nbformat": 4,
 "nbformat_minor": 0
}
